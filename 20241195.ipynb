{
  "metadata": {
    "kernelspec": {
      "name": "python",
      "display_name": "Python (Pyodide)",
      "language": "python"
    },
    "language_info": {
      "codemirror_mode": {
        "name": "python",
        "version": 3
      },
      "file_extension": ".py",
      "mimetype": "text/x-python",
      "name": "python",
      "nbconvert_exporter": "python",
      "pygments_lexer": "ipython3",
      "version": "3.8"
    }
  },
  "nbformat_minor": 5,
  "nbformat": 4,
  "cells": [
    {
      "id": "d9902fa5-edb4-43a6-a768-9f703a3d7395",
      "cell_type": "markdown",
      "source": "# 1. LeetCode 225. Implement Stack using Queues",
      "metadata": {}
    },
    {
      "id": "59fab733-8a91-4631-9ed5-cccd40a0ccb2",
      "cell_type": "code",
      "source": "from collections import deque\n\nclass MyStack:\n    def __init__(self):\n        self.q1 = deque()\n        self.q2 = deque()\n\n    def push(self, x: int) -> None:\n        # 새 원소를 q2에 먼저 넣고\n        self.q2.append(x)\n        # 기존 q1의 원소를 모두 q2 뒤로 붙임\n        while self.q1:\n            self.q2.append(self.q1.popleft())\n        # q1, q2를 swap (q2가 이제 메인 큐가 됨)\n        self.q1, self.q2 = self.q2, self.q1\n\n    def pop(self) -> int:\n        return self.q1.popleft()  # 가장 앞의 원소가 스택의 top\n\n    def top(self) -> int:\n        return self.q1[0]  # 삭제 없이 top만 확인\n\n    def empty(self) -> bool:\n        return not self.q1  # 비어 있으면 True\n",
      "metadata": {
        "trusted": true
      },
      "outputs": [],
      "execution_count": 5
    },
    {
      "id": "7220fadf-03e6-4aef-8dd5-873447133d2f",
      "cell_type": "markdown",
      "source": "# 2. LeetCode 232. Implement Queue using Stacks",
      "metadata": {}
    },
    {
      "id": "b4a6defe-652f-4212-9e23-ddddde2d2894",
      "cell_type": "code",
      "source": "class MyQueue:\n    def __init__(self):\n        self.in_stack = []   # 입력용 스택\n        self.out_stack = []  # 출력용 스택\n\n    def push(self, x: int) -> None:\n        self.in_stack.append(x)  # 새 원소는 그냥 in_stack에 넣기\n\n    def pop(self) -> int:\n        self._shift_stacks()\n        return self.out_stack.pop()\n\n    def peek(self) -> int:\n        self._shift_stacks()\n        return self.out_stack[-1]\n\n    def empty(self) -> bool:\n        return not self.in_stack and not self.out_stack\n\n    def _shift_stacks(self):\n        # out_stack이 비어있을 때만 in_stack의 원소들을 이동\n        if not self.out_stack:\n            while self.in_stack:\n                self.out_stack.append(self.in_stack.pop())\n",
      "metadata": {
        "trusted": true
      },
      "outputs": [],
      "execution_count": 6
    },
    {
      "id": "c587ca8d-6c6e-4d08-806f-c19124bd7ace",
      "cell_type": "markdown",
      "source": "# 3. 교재의 큐 연습문제 전부",
      "metadata": {}
    },
    {
      "id": "551f4a72-9d12-47bb-b78c-481a445fce66",
      "cell_type": "markdown",
      "source": "1) ",
      "metadata": {}
    },
    {
      "id": "23b13bce-b714-4e9f-a8df-b11495c972eb",
      "cell_type": "code",
      "source": "class ListQueue:\n    def __init__(self):\n        self.__queue = []\n\n    def enqueue(self, x):  \n        self.__queue.insert(0, x)\n\n    def dequeue(self):    \n        return self.__queue.pop()\n\n    def front(self):      \n        return self.__queue[-1]\n\n    def isEmpty(self) -> bool:\n        return len(self.__queue) == 0\n\n    def dequeueAll(self):\n        self.__queue.clear()\n",
      "metadata": {
        "trusted": true
      },
      "outputs": [],
      "execution_count": 7
    },
    {
      "id": "a0dd8a5b-ec65-4018-89e7-2176bb464f17",
      "cell_type": "markdown",
      "source": "2)",
      "metadata": {}
    },
    {
      "id": "c05b4524-9285-497a-9da3-823b2df929b5",
      "cell_type": "code",
      "source": "from collections import deque\n\ndef is_in_set(s: str) -> bool:\n    if '$' not in s:\n        return False\n    \n    parts = s.split('$')\n    if len(parts) != 2:\n        return False\n    \n    left, right = parts\n    if len(left) != len(right):\n        return False\n\n    q = deque(left)\n\n    for ch in right:\n        if not q or ch != q.pop():\n            return False\n    \n    return True\n",
      "metadata": {
        "trusted": true
      },
      "outputs": [],
      "execution_count": 8
    },
    {
      "id": "e508c354-e6fc-49e3-b751-253abc2dbd97",
      "cell_type": "markdown",
      "source": "3)",
      "metadata": {}
    },
    {
      "id": "0d183148-90bf-49d1-9715-f1b771ec6e08",
      "cell_type": "code",
      "source": "def copyQueue(a, b):\n    size = a.size()\n    \n    for _ in range(size):\n        item = a.dequeue()   \n        a.enqueue(item)     \n        b.enqueue(item)      \n",
      "metadata": {
        "trusted": true
      },
      "outputs": [],
      "execution_count": 9
    },
    {
      "id": "19b1ac7f-f991-4bfd-8e11-b2ba1f407f5b",
      "cell_type": "markdown",
      "source": "4)",
      "metadata": {}
    },
    {
      "id": "c3c8e94f-9b1e-41d3-9f0c-8f3479eaf99e",
      "cell_type": "code",
      "source": "from collections import deque\n\nclass StackUsingQueues:\n    def __init__(self):\n        self.q1 = deque()\n        self.q2 = deque()\n\n    def push(self, x):\n        self.q1.append(x)\n\n    def pop(self):\n        while len(self.q1) > 1:\n            self.q2.append(self.q1.popleft())\n        \n        popped = self.q1.popleft()\n        \n        self.q1, self.q2 = self.q2, self.q1\n        \n        return popped\n\n    def top(self):\n        while len(self.q1) > 1:\n            self.q2.append(self.q1.popleft())\n        \n        top_element = self.q1.popleft()\n        self.q2.append(top_element)  \n        \n        # swap\n        self.q1, self.q2 = self.q2, self.q1\n        \n        return top_element\n\n    def isEmpty(self):\n        return not self.q1\n",
      "metadata": {
        "trusted": true
      },
      "outputs": [],
      "execution_count": 10
    },
    {
      "id": "e698ac28-5f6c-49c5-b96f-5356dad674a4",
      "cell_type": "markdown",
      "source": "5)",
      "metadata": {}
    },
    {
      "id": "f57f571b-3066-4e5f-9fc2-389aa18f494e",
      "cell_type": "code",
      "source": "class QueueUsingStacks:\n    def __init__(self):\n        self.stack_in = []\n        self.stack_out = []\n\n    def enqueue(self, x):\n        self.stack_in.append(x)\n\n    def dequeue(self):\n        if not self.stack_out:\n            while self.stack_in:\n                self.stack_out.append(self.stack_in.pop())\n        \n        if not self.stack_out:\n            raise IndexError(\"Queue is empty\")\n        \n        return self.stack_out.pop()\n\n    def peek(self):\n        if not self.stack_out:\n            while self.stack_in:\n                self.stack_out.append(self.stack_in.pop())\n        \n        if not self.stack_out:\n            raise IndexError(\"Queue is empty\")\n        \n        return self.stack_out[-1]\n\n    def isEmpty(self):\n        return not self.stack_in and not self.stack_out\n",
      "metadata": {
        "trusted": true
      },
      "outputs": [],
      "execution_count": 11
    },
    {
      "id": "90518035-c421-48d3-b212-ce81f0237706",
      "cell_type": "markdown",
      "source": "6)",
      "metadata": {}
    },
    {
      "id": "5e5952a9-e3f0-47aa-ac36-6c4642d57bcb",
      "cell_type": "markdown",
      "source": "enqueue() 수행 시간: O(1)\ndequeue() 수행 시간: O(1)",
      "metadata": {}
    },
    {
      "id": "f825a708-d296-4887-b738-8b1b4114cb78",
      "cell_type": "markdown",
      "source": "7)",
      "metadata": {}
    },
    {
      "id": "d0f414c3-e349-4890-856d-d888dd525f5b",
      "cell_type": "markdown",
      "source": "enqueue() 수행 시간: O(n)\ndequeue() 수행 시간: O(1)",
      "metadata": {}
    },
    {
      "id": "1f89a918-e956-4661-9421-48b9fb68df00",
      "cell_type": "markdown",
      "source": "8)",
      "metadata": {}
    },
    {
      "id": "9e913c01-d786-4c0a-89e0-2771ecf4ce2e",
      "cell_type": "code",
      "source": "class Deque:\n    def __init__(self):\n        self.__deque = []\n\n    def isEmpty(self) -> bool:\n        return len(self.__deque) == 0\n\n    def addFront(self, x):\n        self.__deque.insert(0, x)  # 리스트 앞에 삽입 → O(n)\n\n    def addRear(self, x):\n        self.__deque.append(x)     # 리스트 뒤에 삽입 → O(1)\n\n    def deleteFront(self):\n        if not self.isEmpty():\n            return self.__deque.pop(0)  # 리스트 앞에서 제거 → O(n)\n        return None\n\n    def deleteRear(self):\n        if not self.isEmpty():\n            return self.__deque.pop()  # 리스트 뒤에서 제거 → O(1)\n        return None\n\n    def front(self):\n        if not self.isEmpty():\n            return self.__deque[0]\n        return None\n\n    def rear(self):\n        if not self.isEmpty():\n            return self.__deque[-1]\n        return None\n\n    def dequeueAll(self):\n        self.__deque.clear()\n\n    def printDeque(self):\n        print(\"Deque from front:\", end=' ')\n        for item in self.__deque:\n            print(item, end=' ')\n        print()\n",
      "metadata": {
        "trusted": true
      },
      "outputs": [],
      "execution_count": 12
    }
  ]
}