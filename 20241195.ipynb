{
  "metadata": {
    "kernelspec": {
      "name": "python",
      "display_name": "Python (Pyodide)",
      "language": "python"
    },
    "language_info": {
      "codemirror_mode": {
        "name": "python",
        "version": 3
      },
      "file_extension": ".py",
      "mimetype": "text/x-python",
      "name": "python",
      "nbconvert_exporter": "python",
      "pygments_lexer": "ipython3",
      "version": "3.8"
    }
  },
  "nbformat_minor": 5,
  "nbformat": 4,
  "cells": [
    {
      "id": "5e1b9a8b-3a22-4816-a377-2daf9ba412f5",
      "cell_type": "markdown",
      "source": "# 과제 3",
      "metadata": {}
    },
    {
      "id": "e433cb60-bb53-40ad-a026-096a1fad69d7",
      "cell_type": "code",
      "source": "import heapq\nimport csv\n\nbirthday_data = []\n\nwith open('birthday.csv', mode='r', encoding='utf-8-sig') as file:\n    reader = csv.reader(file)\n    \n    next(reader)\n    \n    for row in reader:\n        if len(row) < 3 or not row[2]: \n            continue\n        \n        name, birthdate = row[1], row[2] \n        \n        try:\n            birth_year = int(birthdate[:4])\n            birth_month = int(birthdate[4:6])\n            birth_day = int(birthdate[6:])\n        except ValueError:\n            continue \n        \n        heapq.heappush(birthday_data, (-birth_year, -birth_month, -birth_day, name))\n\nprint(\"생일이 늦은 순서대로 10명의 친구:\")\nfor i in range(min(10, len(birthday_data))):\n    birth_year, birth_month, birth_day, name = heapq.heappop(birthday_data)\n    print(f\"{name}: {abs(birth_year)}-{abs(birth_month):02d}-{abs(birth_day):02d}\")",
      "metadata": {
        "trusted": true
      },
      "outputs": [],
      "execution_count": null
    },
    {
      "id": "5ca87713-aa74-4cb9-aaaf-89295761e419",
      "cell_type": "markdown",
      "source": "## 실행 결과",
      "metadata": {}
    },
    {
      "id": "197ca53b-b3df-46ce-952e-cdb12b6c11f7",
      "cell_type": "markdown",
      "source": "생일이 늦은 순서대로 10명의 친구:\n홍서연: 2024-12-82\n신수민: 2005-12-30\n이서영: 2005-12-25\n강민주: 2005-12-14\n김민경: 2005-12-02\n이서영: 2005-11-12\n배시은: 2005-11-02\n김여원: 2005-10-31\n이서진: 2005-10-28\n서홍빈: 2005-10-24",
      "metadata": {}
    },
    {
      "id": "d7d408c6-8e48-49ac-a3cd-882ab564dfb0",
      "cell_type": "markdown",
      "source": "# 과제 4",
      "metadata": {}
    },
    {
      "id": "3e30b698-cf29-4c13-8951-f38b4b064b15",
      "cell_type": "code",
      "source": "import csv\nclass Node:\n    def __init__(self, name, birthdate):\n        self.name = name\n        self.birthdate = birthdate\n        self.prev = None\n        self.next = None\n\nclass CircularDoublyLinkedList:\n    def __init__(self):\n        self.head = None\n\n    def append(self, name, birthdate):\n        new_node = Node(name, birthdate)\n        if self.head is None:\n            self.head = new_node\n            self.head.next = new_node\n            self.head.prev = new_node\n        else:\n            tail = self.head.prev\n            tail.next = new_node\n            new_node.prev = tail\n            new_node.next = self.head\n            self.head.prev = new_node\n\n    def display_group(self, group_names):\n        result = []\n        current = self.head\n        if not current:\n            return result\n\n        visited = set() \n        while current.name not in visited:\n            visited.add(current.name)\n            if current.name in group_names:\n                result.append((current.name, current.birthdate))\n            current = current.next\n        return result\n\n\n# 같은 조 친구들의 이름\ngroup_names = [\n    '김주하', '오예준', '강수아', '김서빈', '김선민', '김예빈', '김채민',\n    '김혜인', '김민주', '배시은', '송민서', '안수민', '최가온', '신희영'\n]\n\ngroup_names = [name.strip() for name in group_names]\n\nclass Node:\n    def __init__(self, name, birthdate):\n        self.name = name\n        self.birthdate = birthdate\n        self.prev = None\n        self.next = None\n\nclass CircularDoublyLinkedList:\n    def __init__(self):\n        self.head = None\n\n    def append(self, name, birthdate):\n        new_node = Node(name, birthdate)\n        if self.head is None:\n            self.head = new_node\n            self.head.next = new_node\n            self.head.prev = new_node\n        else:\n            tail = self.head.prev\n            tail.next = new_node\n            new_node.prev = tail\n            new_node.next = self.head\n            self.head.prev = new_node\n\n    def display_group(self, group_names):\n        result = []\n        current = self.head\n        if not current:\n            return result\n\n        visited = set()\n        while current.name not in visited:\n            visited.add(current.name)\n            if current.name.strip() in group_names:\n                result.append((current.name.strip(), current.birthdate))\n            current = current.next\n        return result\n\ncdll = CircularDoublyLinkedList()\n\nwith open('birthday.csv', mode='r', encoding='utf-8-sig') as file:\n    reader = csv.reader(file)\n    next(reader)  \n    for row in reader:\n        if len(row) < 3 or not row[2]:\n            continue\n        name = row[1].strip()\n        birth = row[2].strip()\n        try:\n            birthdate = f\"{birth[:4]}-{birth[4:6]}-{birth[6:]}\"\n        except:\n            continue\n        cdll.append(name, birthdate)\n\nprint(\"같은 조 친구들의 이름과 생년월일:\")\nfor name, birthdate in cdll.display_group(group_names):\n    print(f\"{name}: {birthdate}\")",
      "metadata": {
        "trusted": true
      },
      "outputs": [],
      "execution_count": null
    },
    {
      "id": "182fee24-8d07-4366-aa66-1f2f2e5095fa",
      "cell_type": "markdown",
      "source": "## 실행결과",
      "metadata": {}
    },
    {
      "id": "69d75acd-e6b5-494d-9279-dc6bc9a0aeb3",
      "cell_type": "markdown",
      "source": "같은 조 친구들의 이름과 생년월일:\n안수민: 2003-06-03\n김서빈: 2004-06-28\n김민주: 2004-10-26\n강수아: 2004-11-03\n송민서: 2004-11-08\n신희영: 2005-01-26\n김주하: 2005-04-17\n오예준: 2005-07-12\n김채민: 2005-09-10\n김혜인: 2005-10-01\n최가온: 2005-10-08\n김예빈: 2005-10-19\n배시은: 2005-11-02\n김선민: (생일 없음)",
      "metadata": {}
    },
    {
      "id": "cecc755f-fe9f-4f2e-833e-a2b3625dd4b8",
      "cell_type": "markdown",
      "source": "# 과제 5",
      "metadata": {}
    },
    {
      "id": "f71d2fb8-b321-46c4-9b34-3debba0a771e",
      "cell_type": "markdown",
      "source": "01",
      "metadata": {}
    },
    {
      "id": "47da60c3-6b75-469a-8948-121e6ebc2878",
      "cell_type": "markdown",
      "source": "임의의 최대 힙에서 더 얕은 곳에 있는 원소가 더 깊은 곳에 있는 원소보다 더 작은 값을 가질 수 있다. 예를 들면, heap[1]과 heap[2]는 깊이가 같고, heap[5]는 heap[1]보다 깊이가 깊지만 값은 작다.",
      "metadata": {}
    },
    {
      "id": "362dc789-4de1-4321-8c37-1f77d7d2c0d5",
      "cell_type": "markdown",
      "source": "02",
      "metadata": {}
    },
    {
      "id": "22d2c132-26fd-46f5-bd5c-977541b33ecf",
      "cell_type": "markdown",
      "source": "최대 힙의 마지막 원소가 항상 가장 작은 값은 아니다. heap[0] = 10, heap[1] = 7, heap[2] = 9이고 이 두 노드가 말단 노드인 힙이 있다고 한다면 이 힙은 heap[0] > heap[1], heap[0] > heap[2]가 되어 힙의 조건을 만족하며, heap[n-2] < heap[n-1]을 만족하는 힙이다.",
      "metadata": {}
    },
    {
      "id": "cf0377e2-c44a-4b39-9fc7-877e7f2ad8db",
      "cell_type": "markdown",
      "source": "03",
      "metadata": {}
    },
    {
      "id": "e016792f-15fc-4e58-895a-e373e7449f86",
      "cell_type": "markdown",
      "source": "길이가 n인 임의의 리스트를 힙으로 만들 때, 마지막 요소의 인덱스는 n-1이다. 따라서 인덱스가 ((n-1)-1)//2 즉 (n-2)//2부터 0까지의 인덱스를 갖는 요소를 대상으로 스며내리기를 진행한다. 따라서 루트의 자격으로 스며내리기를 하지 않고 그냥 넘어가는 원소 수는 n-1-(n-2)//2개이다.",
      "metadata": {}
    },
    {
      "id": "f43f61cd-a27e-4d1b-bffc-a2ff5511aa67",
      "cell_type": "markdown",
      "source": "04",
      "metadata": {}
    },
    {
      "id": "694ee9fc-f9a5-4cde-b8db-5d74c3989af8",
      "cell_type": "markdown",
      "source": "최악의 경우 Θ(logn), 최선의 경우 Θ(1)",
      "metadata": {}
    },
    {
      "id": "863be29c-87f5-4349-881a-c4cf297dd30a",
      "cell_type": "markdown",
      "source": "05",
      "metadata": {}
    },
    {
      "id": "ee76c935-0154-4914-af3d-193d77d8cc8e",
      "cell_type": "markdown",
      "source": "이 문제에서 말하는 마지막 원소가 단순히 리스트의 마지막 원소라면 매우 간단히 원소를 삭제할 수 있다.\n하지만 여기서 말하는 마지막 원소가 우선순위의 마지막이 되는 원소라면 힙의 마지막 원소를 삭제하는 작업은 그렇게 간단하지는 않다. 마지막 원소가 항상 가장 작은 값을 가지지도 않고, 깊이가 깊은 원소가 항상 깊이가 얕은 원소보다 작은 값을 가지지도 않는다.",
      "metadata": {}
    },
    {
      "id": "6f0a6881-24e9-4220-bed2-22ac3d1f2950",
      "cell_type": "markdown",
      "source": "06",
      "metadata": {}
    },
    {
      "id": "dac5b4ce-30fd-4b7a-8851-33c203839b7c",
      "cell_type": "markdown",
      "source": "위쪽부터 시작해서 스며오르기를 반복하여 build_heap() 알고리즘을 구현한다고 해보자. index가 0인 요소에는 이미 맨 위의 요소이므로 스며오르기를 할 수 없다. 따라서 index가 1인 요소부터 index가 n-1(마지막)인 요소까지 진행한다. 처음 스며오르기를 진행할 땐 대상 노드의 깊이가 얕기 때문에 비교와 교체 작업이 많지 않지만, index가 커질수록 대상 노드의 깊이가 깊어져 스며오르기를 logn번 진행해야 할 수도 있다. Θ(nlogn)의 시간이 소요된다. 이 방법은 Θ(n)의 시간이 소요되는 스며내리기를 이용한 build_heap() 알고리즘보다 비효율적이다.",
      "metadata": {}
    },
    {
      "id": "feab6140-dff5-419a-a128-c61da28758cf",
      "cell_type": "markdown",
      "source": "07",
      "metadata": {}
    },
    {
      "id": "e19871fb-e9c2-46d4-91e6-c005cfadb545",
      "cell_type": "markdown",
      "source": "임의의 원소의 값이 증가했다면, 그 원소에 해당하는 노드를 제거하는 delete_max() 작업을 실행한다. 이 작업에 소요되는 시간은 O(logn)이다. 증가한 원소의 값을 갖는 노드를 힙에 추가한다. 노드를 추가하는 작업 insert()는 O(logn)의 시간이 든다.\n이 두 작업을 통해 힙을 O(logn) 시간만에 변화를 반영하여 힙을 수선할 수 있다.",
      "metadata": {}
    },
    {
      "id": "1fba8e74-c750-4216-a0e7-642ee1b90321",
      "cell_type": "markdown",
      "source": "# 과제 6",
      "metadata": {}
    },
    {
      "id": "b1819838-7fc5-4644-9598-50c5dc8415d8",
      "cell_type": "code",
      "source": "import heapq\n\nclass KthLargest:\n\n    def __init__(self, k: int, nums: list[int]):\n        self.k = k\n        self.min_heap = []\n\n        # 최소 힙에 초기값을 넣고 정리\n        for num in nums:\n            self.add(num)  # add를 재사용\n\n    def add(self, val: int) -> int:\n        if len(self.min_heap) < self.k:\n            heapq.heappush(self.min_heap, val)\n        elif val > self.min_heap[0]:  # 가장 작은 값보다 클 때만 갱신\n            heapq.heappushpop(self.min_heap, val)\n\n        return self.min_heap[0]  # 현재 k번째로 큰 값",
      "metadata": {
        "trusted": true
      },
      "outputs": [],
      "execution_count": null
    }
  ]
}